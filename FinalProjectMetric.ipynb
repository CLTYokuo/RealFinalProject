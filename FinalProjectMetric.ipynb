{
 "cells": [
  {
   "cell_type": "markdown",
   "metadata": {},
   "source": [
    "# Final Project\n",
    "Authors: Ian Susko, Ryan Farrar, Jude"
   ]
  },
  {
   "cell_type": "markdown",
   "metadata": {},
   "source": [
    "## Our Metric and Submetrics\n",
    "\n",
    "For our project we attempted to look and what the best neighborhood is as broad as possible by looking at the green spaces in each, median household income, and median household value. When we initially met we were trying to find median household income, average utility cost, and average rent, but we saw that the costs of the latter two were about the same in every single neighborhood. So we decided to broaden our focus by having the household income as before and now green spaces and median household value. Finally, we started looking at the different datasets and organizing the neighborhoods based on a map that our group created, which is shown below. "
   ]
  },
  {
   "cell_type": "markdown",
   "metadata": {},
   "source": [
    "![Image Map](Pittsburgh-Map.jpg)"
   ]
  },
  {
   "cell_type": "markdown",
   "metadata": {},
   "source": [
    "## Green Spaces\n",
    "The first submetric we will look at is the green spaces that are maintained by the Operations Division in the Department of Public Works. This means that large parks, such as Schenly and Frick, are not included in this data. Shown below is the part of the larger data set we are using taking the total acreage and neighborhood based on the map above"
   ]
  },
  {
   "cell_type": "code",
   "execution_count": 3,
   "metadata": {},
   "outputs": [
    {
     "data": {
      "text/html": [
       "<div>\n",
       "<style scoped>\n",
       "    .dataframe tbody tr th:only-of-type {\n",
       "        vertical-align: middle;\n",
       "    }\n",
       "\n",
       "    .dataframe tbody tr th {\n",
       "        vertical-align: top;\n",
       "    }\n",
       "\n",
       "    .dataframe thead th {\n",
       "        text-align: right;\n",
       "    }\n",
       "</style>\n",
       "<table border=\"1\" class=\"dataframe\">\n",
       "  <thead>\n",
       "    <tr style=\"text-align: right;\">\n",
       "      <th></th>\n",
       "      <th>Neighborhood</th>\n",
       "      <th>Total Acreage</th>\n",
       "    </tr>\n",
       "  </thead>\n",
       "  <tbody>\n",
       "    <tr>\n",
       "      <th>0</th>\n",
       "      <td>Central Oakland</td>\n",
       "      <td>1.30</td>\n",
       "    </tr>\n",
       "    <tr>\n",
       "      <th>1</th>\n",
       "      <td>Friendship</td>\n",
       "      <td>0.20</td>\n",
       "    </tr>\n",
       "    <tr>\n",
       "      <th>2</th>\n",
       "      <td>Bedford Dwelling</td>\n",
       "      <td>0.30</td>\n",
       "    </tr>\n",
       "    <tr>\n",
       "      <th>3</th>\n",
       "      <td>Beechview</td>\n",
       "      <td>0.10</td>\n",
       "    </tr>\n",
       "    <tr>\n",
       "      <th>4</th>\n",
       "      <td>Brookline</td>\n",
       "      <td>0.10</td>\n",
       "    </tr>\n",
       "    <tr>\n",
       "      <th>5</th>\n",
       "      <td>West Oakland</td>\n",
       "      <td>0.10</td>\n",
       "    </tr>\n",
       "    <tr>\n",
       "      <th>6</th>\n",
       "      <td>Central Business District</td>\n",
       "      <td>1.20</td>\n",
       "    </tr>\n",
       "    <tr>\n",
       "      <th>7</th>\n",
       "      <td>East Liberty</td>\n",
       "      <td>2.10</td>\n",
       "    </tr>\n",
       "    <tr>\n",
       "      <th>8</th>\n",
       "      <td>Point Breeze</td>\n",
       "      <td>0.31</td>\n",
       "    </tr>\n",
       "    <tr>\n",
       "      <th>9</th>\n",
       "      <td>Homewood South</td>\n",
       "      <td>1.80</td>\n",
       "    </tr>\n",
       "    <tr>\n",
       "      <th>10</th>\n",
       "      <td>Crafton Heights</td>\n",
       "      <td>0.10</td>\n",
       "    </tr>\n",
       "    <tr>\n",
       "      <th>11</th>\n",
       "      <td>Highland Park</td>\n",
       "      <td>0.05</td>\n",
       "    </tr>\n",
       "    <tr>\n",
       "      <th>12</th>\n",
       "      <td>South Oakland</td>\n",
       "      <td>0.15</td>\n",
       "    </tr>\n",
       "    <tr>\n",
       "      <th>13</th>\n",
       "      <td>Point Breeze North</td>\n",
       "      <td>0.80</td>\n",
       "    </tr>\n",
       "    <tr>\n",
       "      <th>14</th>\n",
       "      <td>Shadyside</td>\n",
       "      <td>0.80</td>\n",
       "    </tr>\n",
       "    <tr>\n",
       "      <th>15</th>\n",
       "      <td>Squirrel Hill North</td>\n",
       "      <td>0.30</td>\n",
       "    </tr>\n",
       "    <tr>\n",
       "      <th>16</th>\n",
       "      <td>Polish Hill</td>\n",
       "      <td>0.01</td>\n",
       "    </tr>\n",
       "    <tr>\n",
       "      <th>17</th>\n",
       "      <td>Sheraden</td>\n",
       "      <td>0.10</td>\n",
       "    </tr>\n",
       "    <tr>\n",
       "      <th>18</th>\n",
       "      <td>Swisshelm Park</td>\n",
       "      <td>0.05</td>\n",
       "    </tr>\n",
       "    <tr>\n",
       "      <th>19</th>\n",
       "      <td>Homewood West</td>\n",
       "      <td>0.70</td>\n",
       "    </tr>\n",
       "  </tbody>\n",
       "</table>\n",
       "</div>"
      ],
      "text/plain": [
       "                 Neighborhood  Total Acreage\n",
       "0             Central Oakland           1.30\n",
       "1                  Friendship           0.20\n",
       "2            Bedford Dwelling           0.30\n",
       "3                   Beechview           0.10\n",
       "4                   Brookline           0.10\n",
       "5                West Oakland           0.10\n",
       "6   Central Business District           1.20\n",
       "7                East Liberty           2.10\n",
       "8                Point Breeze           0.31\n",
       "9              Homewood South           1.80\n",
       "10            Crafton Heights           0.10\n",
       "11              Highland Park           0.05\n",
       "12              South Oakland           0.15\n",
       "13         Point Breeze North           0.80\n",
       "14                  Shadyside           0.80\n",
       "15        Squirrel Hill North           0.30\n",
       "16                Polish Hill           0.01\n",
       "17                   Sheraden           0.10\n",
       "18             Swisshelm Park           0.05\n",
       "19              Homewood West           0.70"
      ]
     },
     "execution_count": 3,
     "metadata": {},
     "output_type": "execute_result"
    }
   ],
   "source": [
    "import pandas as pd\n",
    "data = {\n",
    "    'Neighborhood': ['Central Oakland', 'Friendship', 'Bedford Dwelling', 'Beechview', 'Brookline', 'West Oakland', 'Central Business District', 'East Liberty', 'Point Breeze', 'Homewood South', 'Crafton Heights', 'Highland Park', 'South Oakland', 'Point Breeze North', 'Shadyside', 'Squirrel Hill North', 'Polish Hill', 'Sheraden', 'Swisshelm Park', 'Homewood West'],\n",
    "    'Total Acreage': [1.3, 0.2, 0.3, 0.1, 0.1, 0.1, 1.2, 2.1, 0.31, 1.8, 0.1, 0.05, 0.15, 0.8, 0.8, 0.3, 0.01, 0.1, 0.05, 0.7],\n",
    "}\n",
    "df2 = pd.DataFrame(data)\n",
    "df2"
   ]
  },
  {
   "cell_type": "code",
   "execution_count": 5,
   "metadata": {},
   "outputs": [
    {
     "data": {
      "image/png": "[encoded data removed]",
      "text/plain": [
       "<Figure size 432x288 with 1 Axes>"
      ]
     },
     "metadata": {
      "needs_background": "light"
     },
     "output_type": "display_data"
    }
   ],
   "source": [
    "import matplotlib.pyplot as plt\n",
    "%matplotlib inline\n",
    "data = {\n",
    "    'Neighborhood': ['Central Oakland', 'Friendship', 'Bedford Dwelling', 'Beechview', 'Brookline', 'West Oakland', 'Central Business District', 'East Liberty', 'Point Breeze', 'Homewood South', 'Crafton Heights', 'Highland Park', 'South Oakland', 'Point Breeze North', 'Shadyside', 'Squirrel Hill North', 'Polish Hill', 'Sheraden', 'Swisshelm Park', 'Homewood West'],\n",
    "    'Total Acreage': [1.3, 0.2, 0.3, 0.1, 0.1, 0.1, 1.2, 2.1, 0.31, 1.8, 0.1, 0.05, 0.15, 0.8, 0.8, 0.3, 0.01, 0.1, 0.05, 0.7],\n",
    "}\n",
    "df2 = pd.DataFrame(data)\n",
    "df2\n",
    "\n",
    "df2.plot(kind='bar', x='Neighborhood', y='Total Acreage', legend=False)\n",
    "\n",
    "# Add labels and title\n",
    "plt.xlabel('Neighborhood')\n",
    "plt.ylabel('Acres')\n",
    "plt.title('Acres of Parks in Each Neighborhood')\n",
    "\n",
    "# Show the plot\n",
    "plt.show()"
   ]
  },
  {
   "cell_type": "markdown",
   "metadata": {},
   "source": [
    "From the above dataset, East Liberty is the neighborhood with the most green space with the specific requirement. And this dataset is what is used in our final metric."
   ]
  },
  {
   "cell_type": "code",
   "execution_count": null,
   "metadata": {},
   "outputs": [],
   "source": []
  }
 ],
 "metadata": {
  "kernelspec": {
   "display_name": "Python 3",
   "language": "python",
   "name": "python3"
  },
  "language_info": {
   "codemirror_mode": {
    "name": "ipython",
    "version": 3
   },
   "file_extension": ".py",
   "mimetype": "text/x-python",
   "name": "python",
   "nbconvert_exporter": "python",
   "pygments_lexer": "ipython3",
   "version": "3.8.3"
  }
 },
 "nbformat": 4,
 "nbformat_minor": 4
}
